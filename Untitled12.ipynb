{
  "nbformat": 4,
  "nbformat_minor": 0,
  "metadata": {
    "colab": {
      "name": "Untitled12.ipynb",
      "provenance": [],
      "authorship_tag": "ABX9TyMMkwka3eBG0gibos4byy8m",
      "include_colab_link": true
    },
    "kernelspec": {
      "name": "python3",
      "display_name": "Python 3"
    }
  },
  "cells": [
    {
      "cell_type": "markdown",
      "metadata": {
        "id": "view-in-github",
        "colab_type": "text"
      },
      "source": [
        "<a href=\"https://colab.research.google.com/github/Debashis10/stone-paper-scissor-game....Team-ZUCKERBERG/blob/master/Untitled12.ipynb\" target=\"_parent\"><img src=\"https://colab.research.google.com/assets/colab-badge.svg\" alt=\"Open In Colab\"/></a>"
      ]
    },
    {
      "cell_type": "code",
      "metadata": {
        "id": "dUYCQgdEqjK1",
        "colab_type": "code",
        "colab": {}
      },
      "source": [
        "import random\n",
        "def getComputerChoice( randomNumber ):\n",
        "    if randomNumber==1:\n",
        "        computerChoice=\"stone\"\n",
        "    elif randomNumber==2:\n",
        "        computerChoice=\"paper\"\n",
        "    elif randomNumber==3:\n",
        "        computerChoice=\"scissors\"\n",
        "    return computerChoice\n",
        "def getUserChoice():\n",
        "    return input(\"please enter your choice: \")\n",
        "def determineWinner( computerChoice,userChoice ):\n",
        "    winner=\"no winner\"\n",
        "    message=\"\"  \n",
        "    if computerChoice==\"stone\" and userChoice==\"scissors\":\n",
        "        winner=\"Computer won. But don't give up yet.\"\n",
        "        message=\"It just trashed your scissors.\"\n",
        "    elif computerChoice==\"scissors\" and userChoice==\"stone\":\n",
        "        winner=\"You won... nice work\"\n",
        "        message=\"your stone crushed the computer\"\n",
        "    elif computerChoice==\"scissors\" and userChoice==\"paper\":\n",
        "        winner=\"Computer won\"\n",
        "        message=\"It just cut you out\"\n",
        "    elif computerChoice==\"paper\" and userChoice==\"scissors\":\n",
        "        winner=\"You won\"\n",
        "        message=\"scissors cut paper like knife througn butter\"  \n",
        "    elif computerChoice==\"paper\" and userChoice==\"stone\":\n",
        "        winner=\"Computer won\"\n",
        "        message=\"Sorry but computer is definitely formidable.\"\n",
        "    elif computerChoice==\"rock\" and userChoice==\"paper\":\n",
        "        winner=\"You won mate\"\n",
        "        message=\"paper wraps up stone with ease.\"\n",
        "    elif computerChoice == userChoice:\n",
        "        winner=\"None won\"\n",
        "        message=\"It's a draw homeboy\"\n",
        "    return winner, message\n",
        "def startAgain():\n",
        "    randomNumber=random.randint(1,3)\n",
        "    computerChoice=getComputerChoice( randomNumber )\n",
        "    userChoice=getUserChoice()\n",
        "    print( \"The Computer chose\", computerChoice )\n",
        "    winner, message=determineWinner( computerChoice, userChoice )\n",
        "    if winner != \"no winner\":\n",
        "        print( winner, \"(\", message, \")\" )\n",
        "    return winner\n",
        "winner=\"no winner\"\n",
        "while winner==\"no winner\" or \"winner\":\n",
        "    winner=startAgain()"
      ],
      "execution_count": 0,
      "outputs": []
    }
  ]
}